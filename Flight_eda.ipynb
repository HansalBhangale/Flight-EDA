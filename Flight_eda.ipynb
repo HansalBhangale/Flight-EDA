{
 "cells": [
  {
   "cell_type": "code",
   "execution_count": 112,
   "metadata": {},
   "outputs": [],
   "source": [
    "import pandas as pd\n",
    "import numpy as np\n",
    "import matplotlib.pyplot as plt\n",
    "import seaborn as sns\n",
    "from sklearn.preprocessing import LabelEncoder\n",
    "%matplotlib inline"
   ]
  },
  {
   "cell_type": "code",
   "execution_count": 80,
   "metadata": {},
   "outputs": [
    {
     "name": "stdout",
     "output_type": "stream",
     "text": [
      "       Airline Date_of_Journey    Source Destination                  Route  \\\n",
      "0       IndiGo      24/03/2019  Banglore   New Delhi              BLR → DEL   \n",
      "1    Air India       1/05/2019   Kolkata    Banglore  CCU → IXR → BBI → BLR   \n",
      "2  Jet Airways       9/06/2019     Delhi      Cochin  DEL → LKO → BOM → COK   \n",
      "3       IndiGo      12/05/2019   Kolkata    Banglore        CCU → NAG → BLR   \n",
      "4       IndiGo      01/03/2019  Banglore   New Delhi        BLR → NAG → DEL   \n",
      "\n",
      "  Dep_Time  Arrival_Time Duration Total_Stops Additional_Info  Price  \n",
      "0    22:20  01:10 22 Mar   2h 50m    non-stop         No info   3897  \n",
      "1    05:50         13:15   7h 25m     2 stops         No info   7662  \n",
      "2    09:25  04:25 10 Jun      19h     2 stops         No info  13882  \n",
      "3    18:05         23:30   5h 25m      1 stop         No info   6218  \n",
      "4    16:50         21:35   4h 45m      1 stop         No info  13302  \n"
     ]
    }
   ],
   "source": [
    "train_df = pd.read_excel(\"Data_Train.xlsx\")\n",
    "print(train_df.head())"
   ]
  },
  {
   "cell_type": "code",
   "execution_count": 81,
   "metadata": {},
   "outputs": [
    {
     "name": "stdout",
     "output_type": "stream",
     "text": [
      "             Airline Date_of_Journey    Source Destination            Route  \\\n",
      "0        Jet Airways       6/06/2019     Delhi      Cochin  DEL → BOM → COK   \n",
      "1             IndiGo      12/05/2019   Kolkata    Banglore  CCU → MAA → BLR   \n",
      "2        Jet Airways      21/05/2019     Delhi      Cochin  DEL → BOM → COK   \n",
      "3  Multiple carriers      21/05/2019     Delhi      Cochin  DEL → BOM → COK   \n",
      "4           Air Asia      24/06/2019  Banglore       Delhi        BLR → DEL   \n",
      "\n",
      "  Dep_Time  Arrival_Time Duration Total_Stops              Additional_Info  \n",
      "0    17:30  04:25 07 Jun  10h 55m      1 stop                      No info  \n",
      "1    06:20         10:20       4h      1 stop                      No info  \n",
      "2    19:15  19:00 22 May  23h 45m      1 stop  In-flight meal not included  \n",
      "3    08:00         21:00      13h      1 stop                      No info  \n",
      "4    23:55  02:45 25 Jun   2h 50m    non-stop                      No info  \n"
     ]
    }
   ],
   "source": [
    "test_df  = pd.read_excel(\"Test_set.xlsx\")\n",
    "print(test_df.head())"
   ]
  },
  {
   "cell_type": "code",
   "execution_count": 82,
   "metadata": {},
   "outputs": [
    {
     "name": "stdout",
     "output_type": "stream",
     "text": [
      "                Airline Date_of_Journey   Source Destination            Route  \\\n",
      "2666          Air India       6/06/2019  Kolkata    Banglore  CCU → DEL → BLR   \n",
      "2667             IndiGo      27/03/2019  Kolkata    Banglore        CCU → BLR   \n",
      "2668        Jet Airways       6/03/2019    Delhi      Cochin  DEL → BOM → COK   \n",
      "2669          Air India       6/03/2019    Delhi      Cochin  DEL → BOM → COK   \n",
      "2670  Multiple carriers      15/06/2019    Delhi      Cochin  DEL → BOM → COK   \n",
      "\n",
      "     Dep_Time  Arrival_Time Duration Total_Stops Additional_Info  Price  \n",
      "2666    20:30  20:25 07 Jun  23h 55m      1 stop         No info    NaN  \n",
      "2667    14:20         16:55   2h 35m    non-stop         No info    NaN  \n",
      "2668    21:50  04:25 07 Mar   6h 35m      1 stop         No info    NaN  \n",
      "2669    04:00         19:15  15h 15m      1 stop         No info    NaN  \n",
      "2670    04:55         19:15  14h 20m      1 stop         No info    NaN  \n"
     ]
    }
   ],
   "source": [
    "final_df = pd.concat([train_df, test_df]) \n",
    "print(final_df.tail())"
   ]
  },
  {
   "cell_type": "code",
   "execution_count": 83,
   "metadata": {},
   "outputs": [
    {
     "name": "stdout",
     "output_type": "stream",
     "text": [
      "<class 'pandas.core.frame.DataFrame'>\n",
      "Index: 13354 entries, 0 to 2670\n",
      "Data columns (total 11 columns):\n",
      " #   Column           Non-Null Count  Dtype  \n",
      "---  ------           --------------  -----  \n",
      " 0   Airline          13354 non-null  object \n",
      " 1   Date_of_Journey  13354 non-null  object \n",
      " 2   Source           13354 non-null  object \n",
      " 3   Destination      13354 non-null  object \n",
      " 4   Route            13353 non-null  object \n",
      " 5   Dep_Time         13354 non-null  object \n",
      " 6   Arrival_Time     13354 non-null  object \n",
      " 7   Duration         13354 non-null  object \n",
      " 8   Total_Stops      13353 non-null  object \n",
      " 9   Additional_Info  13354 non-null  object \n",
      " 10  Price            10683 non-null  float64\n",
      "dtypes: float64(1), object(10)\n",
      "memory usage: 1.2+ MB\n"
     ]
    }
   ],
   "source": [
    "final_df.info()"
   ]
  },
  {
   "cell_type": "code",
   "execution_count": 84,
   "metadata": {},
   "outputs": [
    {
     "name": "stdout",
     "output_type": "stream",
     "text": [
      "     Airline Date_of_Journey    Source Destination                  Route  \\\n",
      "0     IndiGo      24/03/2019  Banglore   New Delhi              BLR → DEL   \n",
      "1  Air India       1/05/2019   Kolkata    Banglore  CCU → IXR → BBI → BLR   \n",
      "\n",
      "  Dep_Time  Arrival_Time Duration Total_Stops Additional_Info   Price Date  \\\n",
      "0    22:20  01:10 22 Mar   2h 50m    non-stop         No info  3897.0   24   \n",
      "1    05:50         13:15   7h 25m     2 stops         No info  7662.0    1   \n",
      "\n",
      "  Month  Year  \n",
      "0    03  2019  \n",
      "1    05  2019  \n"
     ]
    }
   ],
   "source": [
    "final_df['Date']=final_df[\"Date_of_Journey\"].str.split('/').str[0]\n",
    "final_df['Month']=final_df[\"Date_of_Journey\"].str.split('/').str[1]\n",
    "final_df['Year']=final_df[\"Date_of_Journey\"].str.split('/').str[2]\n",
    "print(final_df.head(2))"
   ]
  },
  {
   "cell_type": "code",
   "execution_count": 85,
   "metadata": {},
   "outputs": [
    {
     "name": "stdout",
     "output_type": "stream",
     "text": [
      "<class 'pandas.core.frame.DataFrame'>\n",
      "Index: 13354 entries, 0 to 2670\n",
      "Data columns (total 14 columns):\n",
      " #   Column           Non-Null Count  Dtype  \n",
      "---  ------           --------------  -----  \n",
      " 0   Airline          13354 non-null  object \n",
      " 1   Date_of_Journey  13354 non-null  object \n",
      " 2   Source           13354 non-null  object \n",
      " 3   Destination      13354 non-null  object \n",
      " 4   Route            13353 non-null  object \n",
      " 5   Dep_Time         13354 non-null  object \n",
      " 6   Arrival_Time     13354 non-null  object \n",
      " 7   Duration         13354 non-null  object \n",
      " 8   Total_Stops      13353 non-null  object \n",
      " 9   Additional_Info  13354 non-null  object \n",
      " 10  Price            10683 non-null  float64\n",
      " 11  Date             13354 non-null  int64  \n",
      " 12  Month            13354 non-null  int64  \n",
      " 13  Year             13354 non-null  int64  \n",
      "dtypes: float64(1), int64(3), object(10)\n",
      "memory usage: 1.5+ MB\n"
     ]
    }
   ],
   "source": [
    "final_df[\"Date\"]= final_df['Date'].astype(int)\n",
    "final_df[\"Month\"] = final_df['Month'].astype(int)\n",
    "final_df[\"Year\"] = final_df['Year'].astype(int)\n",
    "final_df.info()"
   ]
  },
  {
   "cell_type": "code",
   "execution_count": 86,
   "metadata": {},
   "outputs": [
    {
     "name": "stdout",
     "output_type": "stream",
     "text": [
      "  Airline    Source Destination      Route Dep_Time  Arrival_Time Duration  \\\n",
      "0  IndiGo  Banglore   New Delhi  BLR → DEL    22:20  01:10 22 Mar   2h 50m   \n",
      "\n",
      "  Total_Stops Additional_Info   Price  Date  Month  Year  \n",
      "0    non-stop         No info  3897.0    24      3  2019  \n"
     ]
    }
   ],
   "source": [
    "final_df.drop('Date_of_Journey',axis=1, inplace=True)\n",
    "print(final_df.head(1))"
   ]
  },
  {
   "cell_type": "code",
   "execution_count": 87,
   "metadata": {},
   "outputs": [],
   "source": [
    "final_df[\"Arrival_Time\"]=final_df[\"Arrival_Time\"].str.split(' ').str[0]"
   ]
  },
  {
   "cell_type": "code",
   "execution_count": 88,
   "metadata": {},
   "outputs": [
    {
     "name": "stdout",
     "output_type": "stream",
     "text": [
      "  Airline    Source Destination      Route Dep_Time Arrival_Time Duration  \\\n",
      "0  IndiGo  Banglore   New Delhi  BLR → DEL    22:20        01:10   2h 50m   \n",
      "\n",
      "  Total_Stops Additional_Info   Price  Date  Month  Year Arrival_Hour  \\\n",
      "0    non-stop         No info  3897.0    24      3  2019           01   \n",
      "\n",
      "  Arrival_Minute  \n",
      "0             10  \n"
     ]
    }
   ],
   "source": [
    "final_df[\"Arrival_Hour\"]=final_df[\"Arrival_Time\"].str.split(':').str[0]\n",
    "final_df[\"Arrival_Minute\"]=final_df[\"Arrival_Time\"].str.split(':').str[1]\n",
    "print(final_df.head(1))"
   ]
  },
  {
   "cell_type": "code",
   "execution_count": 89,
   "metadata": {},
   "outputs": [],
   "source": [
    "final_df['Arrival_Hour']=final_df['Arrival_Hour'].astype(int)\n",
    "final_df['Arrival_Minute']=final_df['Arrival_Minute'].astype(int)"
   ]
  },
  {
   "cell_type": "code",
   "execution_count": 90,
   "metadata": {},
   "outputs": [],
   "source": [
    "final_df.drop('Arrival_Time',axis=1,inplace=True)"
   ]
  },
  {
   "cell_type": "code",
   "execution_count": 91,
   "metadata": {},
   "outputs": [
    {
     "name": "stdout",
     "output_type": "stream",
     "text": [
      "  Airline    Source Destination      Route Dep_Time Duration Total_Stops  \\\n",
      "0  IndiGo  Banglore   New Delhi  BLR → DEL    22:20   2h 50m    non-stop   \n",
      "\n",
      "  Additional_Info   Price  Date  Month  Year  Arrival_Hour  Arrival_Minute  \\\n",
      "0         No info  3897.0    24      3  2019             1              10   \n",
      "\n",
      "  Dep_Hour Dep_Minute  \n",
      "0       22         20  \n"
     ]
    }
   ],
   "source": [
    "final_df[\"Dep_Hour\"]=final_df[\"Dep_Time\"].str.split(':').str[0]\n",
    "final_df[\"Dep_Minute\"]=final_df[\"Dep_Time\"].str.split(':').str[1]\n",
    "print(final_df.head(1))"
   ]
  },
  {
   "cell_type": "code",
   "execution_count": 92,
   "metadata": {},
   "outputs": [],
   "source": [
    "final_df['Dep_Hour']=final_df['Dep_Hour'].astype(int)\n",
    "final_df['Dep_Minute']=final_df['Dep_Minute'].astype(int)"
   ]
  },
  {
   "cell_type": "code",
   "execution_count": 93,
   "metadata": {},
   "outputs": [],
   "source": [
    "final_df.drop('Dep_Time',axis=1,inplace=True)"
   ]
  },
  {
   "cell_type": "code",
   "execution_count": 94,
   "metadata": {},
   "outputs": [
    {
     "data": {
      "text/plain": [
       "array(['non-stop', '2 stops', '1 stop', '3 stops', nan, '4 stops'],\n",
       "      dtype=object)"
      ]
     },
     "execution_count": 94,
     "metadata": {},
     "output_type": "execute_result"
    }
   ],
   "source": [
    "final_df[\"Total_Stops\"].unique()"
   ]
  },
  {
   "cell_type": "code",
   "execution_count": 95,
   "metadata": {},
   "outputs": [
    {
     "name": "stdout",
     "output_type": "stream",
     "text": [
      "0       0.0\n",
      "1       2.0\n",
      "2       2.0\n",
      "3       1.0\n",
      "4       1.0\n",
      "       ... \n",
      "2666    1.0\n",
      "2667    0.0\n",
      "2668    1.0\n",
      "2669    1.0\n",
      "2670    1.0\n",
      "Name: Total_Stops, Length: 13354, dtype: float64\n"
     ]
    }
   ],
   "source": [
    "final_df['Total_Stops']=final_df['Total_Stops'].map({'non-stop':0,'1 stop':1,'2 stops':2,'3 stops':3,'4 stops':4,'nan':1})\n",
    "\n",
    "print(final_df[\"Total_Stops\"])"
   ]
  },
  {
   "cell_type": "code",
   "execution_count": 96,
   "metadata": {},
   "outputs": [
    {
     "name": "stdout",
     "output_type": "stream",
     "text": [
      "       Airline    Source Destination Duration  Total_Stops Additional_Info  \\\n",
      "0       IndiGo  Banglore   New Delhi   2h 50m          0.0         No info   \n",
      "1    Air India   Kolkata    Banglore   7h 25m          2.0         No info   \n",
      "2  Jet Airways     Delhi      Cochin      19h          2.0         No info   \n",
      "3       IndiGo   Kolkata    Banglore   5h 25m          1.0         No info   \n",
      "4       IndiGo  Banglore   New Delhi   4h 45m          1.0         No info   \n",
      "\n",
      "     Price  Date  Month  Year  Arrival_Hour  Arrival_Minute  Dep_Hour  \\\n",
      "0   3897.0    24      3  2019             1              10        22   \n",
      "1   7662.0     1      5  2019            13              15         5   \n",
      "2  13882.0     9      6  2019             4              25         9   \n",
      "3   6218.0    12      5  2019            23              30        18   \n",
      "4  13302.0     1      3  2019            21              35        16   \n",
      "\n",
      "   Dep_Minute  \n",
      "0          20  \n",
      "1          50  \n",
      "2          25  \n",
      "3           5  \n",
      "4          50  \n"
     ]
    }
   ],
   "source": [
    "final_df.drop('Route',axis=1, inplace=True)\n",
    "print(final_df.head())"
   ]
  },
  {
   "cell_type": "code",
   "execution_count": 97,
   "metadata": {},
   "outputs": [
    {
     "data": {
      "text/plain": [
       "array(['No info', 'In-flight meal not included',\n",
       "       'No check-in baggage included', '1 Short layover', 'No Info',\n",
       "       '1 Long layover', 'Change airports', 'Business class',\n",
       "       'Red-eye flight', '2 Long layover'], dtype=object)"
      ]
     },
     "execution_count": 97,
     "metadata": {},
     "output_type": "execute_result"
    }
   ],
   "source": [
    "final_df['Additional_Info'].unique()\n"
   ]
  },
  {
   "cell_type": "code",
   "execution_count": 98,
   "metadata": {},
   "outputs": [],
   "source": [
    "final_df['duration_hour']=final_df['Duration'].str.split(' ').str[0].str.split('h').str[0]\n"
   ]
  },
  {
   "cell_type": "code",
   "execution_count": 99,
   "metadata": {},
   "outputs": [],
   "source": [
    "final_df.drop(6474,axis=0,inplace=True)\n",
    "final_df.drop(2660,axis=0,inplace=True)\n"
   ]
  },
  {
   "cell_type": "code",
   "execution_count": 100,
   "metadata": {},
   "outputs": [],
   "source": [
    "final_df['duration_hour']=final_df['duration_hour'].astype('int')"
   ]
  },
  {
   "cell_type": "code",
   "execution_count": 101,
   "metadata": {},
   "outputs": [
    {
     "name": "stdout",
     "output_type": "stream",
     "text": [
      "0    50\n",
      "1    25\n",
      "2     0\n",
      "3    25\n",
      "4    45\n",
      "Name: duration_min, dtype: int64\n"
     ]
    }
   ],
   "source": [
    "final_df['duration_min']=final_df['Duration'].str.split(' ').str[1].str.split('m').str[0]\n",
    "final_df['duration_min'] = final_df['duration_min'].fillna('0')\n",
    "final_df['duration_min']=final_df['duration_min'].astype('int')\n",
    "print(final_df['duration_min'].head())"
   ]
  },
  {
   "cell_type": "code",
   "execution_count": 102,
   "metadata": {},
   "outputs": [
    {
     "name": "stdout",
     "output_type": "stream",
     "text": [
      "0     120\n",
      "1     420\n",
      "2    1140\n",
      "3     300\n",
      "4     240\n",
      "Name: duration_hour, dtype: int64\n"
     ]
    }
   ],
   "source": [
    "final_df[\"duration_hour\"] = final_df[\"duration_hour\"].astype(int)*60\n",
    "print(final_df[\"duration_hour\"].head())"
   ]
  },
  {
   "cell_type": "code",
   "execution_count": 103,
   "metadata": {},
   "outputs": [
    {
     "name": "stdout",
     "output_type": "stream",
     "text": [
      "0        170\n",
      "1        445\n",
      "2       1140\n",
      "3        325\n",
      "4        285\n",
      "        ... \n",
      "2666    1435\n",
      "2667     155\n",
      "2668     395\n",
      "2669     915\n",
      "2670     860\n",
      "Name: total_duration_mins, Length: 13351, dtype: int64\n"
     ]
    }
   ],
   "source": [
    "final_df[\"total_duration_mins\"] = final_df[\"duration_hour\"]+final_df[\"duration_min\"]\n",
    "print(final_df[\"total_duration_mins\"])"
   ]
  },
  {
   "cell_type": "code",
   "execution_count": 104,
   "metadata": {},
   "outputs": [
    {
     "name": "stdout",
     "output_type": "stream",
     "text": [
      "<class 'pandas.core.frame.DataFrame'>\n",
      "Index: 13351 entries, 0 to 2670\n",
      "Data columns (total 17 columns):\n",
      " #   Column               Non-Null Count  Dtype  \n",
      "---  ------               --------------  -----  \n",
      " 0   Airline              13351 non-null  object \n",
      " 1   Source               13351 non-null  object \n",
      " 2   Destination          13351 non-null  object \n",
      " 3   Duration             13351 non-null  object \n",
      " 4   Total_Stops          13350 non-null  float64\n",
      " 5   Additional_Info      13351 non-null  object \n",
      " 6   Price                10681 non-null  float64\n",
      " 7   Date                 13351 non-null  int64  \n",
      " 8   Month                13351 non-null  int64  \n",
      " 9   Year                 13351 non-null  int64  \n",
      " 10  Arrival_Hour         13351 non-null  int64  \n",
      " 11  Arrival_Minute       13351 non-null  int64  \n",
      " 12  Dep_Hour             13351 non-null  int64  \n",
      " 13  Dep_Minute           13351 non-null  int64  \n",
      " 14  duration_hour        13351 non-null  int64  \n",
      " 15  duration_min         13351 non-null  int64  \n",
      " 16  total_duration_mins  13351 non-null  int64  \n",
      "dtypes: float64(2), int64(10), object(5)\n",
      "memory usage: 1.8+ MB\n"
     ]
    }
   ],
   "source": [
    "final_df.info()"
   ]
  },
  {
   "cell_type": "code",
   "execution_count": 105,
   "metadata": {},
   "outputs": [],
   "source": [
    "\n",
    "final_df.drop('duration_min',axis=1,inplace=True)\n",
    "final_df.drop('duration_hour',axis=1,inplace=True)\n",
    "final_df.drop('Duration',axis=1,inplace=True)"
   ]
  },
  {
   "cell_type": "code",
   "execution_count": 106,
   "metadata": {},
   "outputs": [
    {
     "name": "stdout",
     "output_type": "stream",
     "text": [
      "<class 'pandas.core.frame.DataFrame'>\n",
      "Index: 13351 entries, 0 to 2670\n",
      "Data columns (total 14 columns):\n",
      " #   Column               Non-Null Count  Dtype  \n",
      "---  ------               --------------  -----  \n",
      " 0   Airline              13351 non-null  object \n",
      " 1   Source               13351 non-null  object \n",
      " 2   Destination          13351 non-null  object \n",
      " 3   Total_Stops          13350 non-null  float64\n",
      " 4   Additional_Info      13351 non-null  object \n",
      " 5   Price                10681 non-null  float64\n",
      " 6   Date                 13351 non-null  int64  \n",
      " 7   Month                13351 non-null  int64  \n",
      " 8   Year                 13351 non-null  int64  \n",
      " 9   Arrival_Hour         13351 non-null  int64  \n",
      " 10  Arrival_Minute       13351 non-null  int64  \n",
      " 11  Dep_Hour             13351 non-null  int64  \n",
      " 12  Dep_Minute           13351 non-null  int64  \n",
      " 13  total_duration_mins  13351 non-null  int64  \n",
      "dtypes: float64(2), int64(8), object(4)\n",
      "memory usage: 1.5+ MB\n"
     ]
    }
   ],
   "source": [
    "final_df.info()"
   ]
  },
  {
   "cell_type": "code",
   "execution_count": 107,
   "metadata": {},
   "outputs": [
    {
     "data": {
      "text/plain": [
       "array(['IndiGo', 'Air India', 'Jet Airways', 'SpiceJet',\n",
       "       'Multiple carriers', 'GoAir', 'Vistara', 'Air Asia',\n",
       "       'Vistara Premium economy', 'Jet Airways Business',\n",
       "       'Multiple carriers Premium economy', 'Trujet'], dtype=object)"
      ]
     },
     "execution_count": 107,
     "metadata": {},
     "output_type": "execute_result"
    }
   ],
   "source": [
    "final_df[\"Airline\"].unique()"
   ]
  },
  {
   "cell_type": "code",
   "execution_count": 118,
   "metadata": {},
   "outputs": [],
   "source": [
    "labelencoder = LabelEncoder()\n",
    "final_df['Airline']=labelencoder.fit_transform(final_df['Airline'])\n",
    "final_df['Source']=labelencoder.fit_transform(final_df['Source'])\n",
    "final_df['Additional_Info']=labelencoder.fit_transform(final_df['Additional_Info'])\n",
    "final_df['Destination']=labelencoder.fit_transform(final_df['Destination'])"
   ]
  },
  {
   "cell_type": "code",
   "execution_count": 119,
   "metadata": {},
   "outputs": [
    {
     "data": {
      "text/html": [
       "<div>\n",
       "<style scoped>\n",
       "    .dataframe tbody tr th:only-of-type {\n",
       "        vertical-align: middle;\n",
       "    }\n",
       "\n",
       "    .dataframe tbody tr th {\n",
       "        vertical-align: top;\n",
       "    }\n",
       "\n",
       "    .dataframe thead th {\n",
       "        text-align: right;\n",
       "    }\n",
       "</style>\n",
       "<table border=\"1\" class=\"dataframe\">\n",
       "  <thead>\n",
       "    <tr style=\"text-align: right;\">\n",
       "      <th></th>\n",
       "      <th>Airline</th>\n",
       "      <th>Source</th>\n",
       "      <th>Destination</th>\n",
       "      <th>Total_Stops</th>\n",
       "      <th>Additional_Info</th>\n",
       "      <th>Price</th>\n",
       "      <th>Date</th>\n",
       "      <th>Month</th>\n",
       "      <th>Year</th>\n",
       "      <th>Arrival_Hour</th>\n",
       "      <th>Arrival_Minute</th>\n",
       "      <th>Dep_Hour</th>\n",
       "      <th>Dep_Minute</th>\n",
       "      <th>total_duration_mins</th>\n",
       "    </tr>\n",
       "  </thead>\n",
       "  <tbody>\n",
       "    <tr>\n",
       "      <th>0</th>\n",
       "      <td>3</td>\n",
       "      <td>0</td>\n",
       "      <td>5</td>\n",
       "      <td>0.0</td>\n",
       "      <td>8</td>\n",
       "      <td>3897.0</td>\n",
       "      <td>24</td>\n",
       "      <td>3</td>\n",
       "      <td>2019</td>\n",
       "      <td>1</td>\n",
       "      <td>10</td>\n",
       "      <td>22</td>\n",
       "      <td>20</td>\n",
       "      <td>170</td>\n",
       "    </tr>\n",
       "    <tr>\n",
       "      <th>1</th>\n",
       "      <td>1</td>\n",
       "      <td>3</td>\n",
       "      <td>0</td>\n",
       "      <td>2.0</td>\n",
       "      <td>8</td>\n",
       "      <td>7662.0</td>\n",
       "      <td>1</td>\n",
       "      <td>5</td>\n",
       "      <td>2019</td>\n",
       "      <td>13</td>\n",
       "      <td>15</td>\n",
       "      <td>5</td>\n",
       "      <td>50</td>\n",
       "      <td>445</td>\n",
       "    </tr>\n",
       "  </tbody>\n",
       "</table>\n",
       "</div>"
      ],
      "text/plain": [
       "   Airline  Source  Destination  Total_Stops  Additional_Info   Price  Date  \\\n",
       "0        3       0            5          0.0                8  3897.0    24   \n",
       "1        1       3            0          2.0                8  7662.0     1   \n",
       "\n",
       "   Month  Year  Arrival_Hour  Arrival_Minute  Dep_Hour  Dep_Minute  \\\n",
       "0      3  2019             1              10        22          20   \n",
       "1      5  2019            13              15         5          50   \n",
       "\n",
       "   total_duration_mins  \n",
       "0                  170  \n",
       "1                  445  "
      ]
     },
     "execution_count": 119,
     "metadata": {},
     "output_type": "execute_result"
    }
   ],
   "source": [
    "final_df.head(2)"
   ]
  },
  {
   "cell_type": "code",
   "execution_count": 121,
   "metadata": {},
   "outputs": [
    {
     "data": {
      "text/html": [
       "<div>\n",
       "<style scoped>\n",
       "    .dataframe tbody tr th:only-of-type {\n",
       "        vertical-align: middle;\n",
       "    }\n",
       "\n",
       "    .dataframe tbody tr th {\n",
       "        vertical-align: top;\n",
       "    }\n",
       "\n",
       "    .dataframe thead th {\n",
       "        text-align: right;\n",
       "    }\n",
       "</style>\n",
       "<table border=\"1\" class=\"dataframe\">\n",
       "  <thead>\n",
       "    <tr style=\"text-align: right;\">\n",
       "      <th></th>\n",
       "      <th>Total_Stops</th>\n",
       "      <th>Additional_Info</th>\n",
       "      <th>Price</th>\n",
       "      <th>Date</th>\n",
       "      <th>Month</th>\n",
       "      <th>Year</th>\n",
       "      <th>Arrival_Hour</th>\n",
       "      <th>Arrival_Minute</th>\n",
       "      <th>Dep_Hour</th>\n",
       "      <th>Dep_Minute</th>\n",
       "      <th>...</th>\n",
       "      <th>Airline_11</th>\n",
       "      <th>Source_1</th>\n",
       "      <th>Source_2</th>\n",
       "      <th>Source_3</th>\n",
       "      <th>Source_4</th>\n",
       "      <th>Destination_1</th>\n",
       "      <th>Destination_2</th>\n",
       "      <th>Destination_3</th>\n",
       "      <th>Destination_4</th>\n",
       "      <th>Destination_5</th>\n",
       "    </tr>\n",
       "  </thead>\n",
       "  <tbody>\n",
       "    <tr>\n",
       "      <th>0</th>\n",
       "      <td>0.0</td>\n",
       "      <td>8</td>\n",
       "      <td>3897.0</td>\n",
       "      <td>24</td>\n",
       "      <td>3</td>\n",
       "      <td>2019</td>\n",
       "      <td>1</td>\n",
       "      <td>10</td>\n",
       "      <td>22</td>\n",
       "      <td>20</td>\n",
       "      <td>...</td>\n",
       "      <td>False</td>\n",
       "      <td>False</td>\n",
       "      <td>False</td>\n",
       "      <td>False</td>\n",
       "      <td>False</td>\n",
       "      <td>False</td>\n",
       "      <td>False</td>\n",
       "      <td>False</td>\n",
       "      <td>False</td>\n",
       "      <td>True</td>\n",
       "    </tr>\n",
       "    <tr>\n",
       "      <th>1</th>\n",
       "      <td>2.0</td>\n",
       "      <td>8</td>\n",
       "      <td>7662.0</td>\n",
       "      <td>1</td>\n",
       "      <td>5</td>\n",
       "      <td>2019</td>\n",
       "      <td>13</td>\n",
       "      <td>15</td>\n",
       "      <td>5</td>\n",
       "      <td>50</td>\n",
       "      <td>...</td>\n",
       "      <td>False</td>\n",
       "      <td>False</td>\n",
       "      <td>False</td>\n",
       "      <td>True</td>\n",
       "      <td>False</td>\n",
       "      <td>False</td>\n",
       "      <td>False</td>\n",
       "      <td>False</td>\n",
       "      <td>False</td>\n",
       "      <td>False</td>\n",
       "    </tr>\n",
       "    <tr>\n",
       "      <th>2</th>\n",
       "      <td>2.0</td>\n",
       "      <td>8</td>\n",
       "      <td>13882.0</td>\n",
       "      <td>9</td>\n",
       "      <td>6</td>\n",
       "      <td>2019</td>\n",
       "      <td>4</td>\n",
       "      <td>25</td>\n",
       "      <td>9</td>\n",
       "      <td>25</td>\n",
       "      <td>...</td>\n",
       "      <td>False</td>\n",
       "      <td>False</td>\n",
       "      <td>True</td>\n",
       "      <td>False</td>\n",
       "      <td>False</td>\n",
       "      <td>True</td>\n",
       "      <td>False</td>\n",
       "      <td>False</td>\n",
       "      <td>False</td>\n",
       "      <td>False</td>\n",
       "    </tr>\n",
       "    <tr>\n",
       "      <th>3</th>\n",
       "      <td>1.0</td>\n",
       "      <td>8</td>\n",
       "      <td>6218.0</td>\n",
       "      <td>12</td>\n",
       "      <td>5</td>\n",
       "      <td>2019</td>\n",
       "      <td>23</td>\n",
       "      <td>30</td>\n",
       "      <td>18</td>\n",
       "      <td>5</td>\n",
       "      <td>...</td>\n",
       "      <td>False</td>\n",
       "      <td>False</td>\n",
       "      <td>False</td>\n",
       "      <td>True</td>\n",
       "      <td>False</td>\n",
       "      <td>False</td>\n",
       "      <td>False</td>\n",
       "      <td>False</td>\n",
       "      <td>False</td>\n",
       "      <td>False</td>\n",
       "    </tr>\n",
       "    <tr>\n",
       "      <th>4</th>\n",
       "      <td>1.0</td>\n",
       "      <td>8</td>\n",
       "      <td>13302.0</td>\n",
       "      <td>1</td>\n",
       "      <td>3</td>\n",
       "      <td>2019</td>\n",
       "      <td>21</td>\n",
       "      <td>35</td>\n",
       "      <td>16</td>\n",
       "      <td>50</td>\n",
       "      <td>...</td>\n",
       "      <td>False</td>\n",
       "      <td>False</td>\n",
       "      <td>False</td>\n",
       "      <td>False</td>\n",
       "      <td>False</td>\n",
       "      <td>False</td>\n",
       "      <td>False</td>\n",
       "      <td>False</td>\n",
       "      <td>False</td>\n",
       "      <td>True</td>\n",
       "    </tr>\n",
       "    <tr>\n",
       "      <th>...</th>\n",
       "      <td>...</td>\n",
       "      <td>...</td>\n",
       "      <td>...</td>\n",
       "      <td>...</td>\n",
       "      <td>...</td>\n",
       "      <td>...</td>\n",
       "      <td>...</td>\n",
       "      <td>...</td>\n",
       "      <td>...</td>\n",
       "      <td>...</td>\n",
       "      <td>...</td>\n",
       "      <td>...</td>\n",
       "      <td>...</td>\n",
       "      <td>...</td>\n",
       "      <td>...</td>\n",
       "      <td>...</td>\n",
       "      <td>...</td>\n",
       "      <td>...</td>\n",
       "      <td>...</td>\n",
       "      <td>...</td>\n",
       "      <td>...</td>\n",
       "    </tr>\n",
       "    <tr>\n",
       "      <th>2666</th>\n",
       "      <td>1.0</td>\n",
       "      <td>8</td>\n",
       "      <td>NaN</td>\n",
       "      <td>6</td>\n",
       "      <td>6</td>\n",
       "      <td>2019</td>\n",
       "      <td>20</td>\n",
       "      <td>25</td>\n",
       "      <td>20</td>\n",
       "      <td>30</td>\n",
       "      <td>...</td>\n",
       "      <td>False</td>\n",
       "      <td>False</td>\n",
       "      <td>False</td>\n",
       "      <td>True</td>\n",
       "      <td>False</td>\n",
       "      <td>False</td>\n",
       "      <td>False</td>\n",
       "      <td>False</td>\n",
       "      <td>False</td>\n",
       "      <td>False</td>\n",
       "    </tr>\n",
       "    <tr>\n",
       "      <th>2667</th>\n",
       "      <td>0.0</td>\n",
       "      <td>8</td>\n",
       "      <td>NaN</td>\n",
       "      <td>27</td>\n",
       "      <td>3</td>\n",
       "      <td>2019</td>\n",
       "      <td>16</td>\n",
       "      <td>55</td>\n",
       "      <td>14</td>\n",
       "      <td>20</td>\n",
       "      <td>...</td>\n",
       "      <td>False</td>\n",
       "      <td>False</td>\n",
       "      <td>False</td>\n",
       "      <td>True</td>\n",
       "      <td>False</td>\n",
       "      <td>False</td>\n",
       "      <td>False</td>\n",
       "      <td>False</td>\n",
       "      <td>False</td>\n",
       "      <td>False</td>\n",
       "    </tr>\n",
       "    <tr>\n",
       "      <th>2668</th>\n",
       "      <td>1.0</td>\n",
       "      <td>8</td>\n",
       "      <td>NaN</td>\n",
       "      <td>6</td>\n",
       "      <td>3</td>\n",
       "      <td>2019</td>\n",
       "      <td>4</td>\n",
       "      <td>25</td>\n",
       "      <td>21</td>\n",
       "      <td>50</td>\n",
       "      <td>...</td>\n",
       "      <td>False</td>\n",
       "      <td>False</td>\n",
       "      <td>True</td>\n",
       "      <td>False</td>\n",
       "      <td>False</td>\n",
       "      <td>True</td>\n",
       "      <td>False</td>\n",
       "      <td>False</td>\n",
       "      <td>False</td>\n",
       "      <td>False</td>\n",
       "    </tr>\n",
       "    <tr>\n",
       "      <th>2669</th>\n",
       "      <td>1.0</td>\n",
       "      <td>8</td>\n",
       "      <td>NaN</td>\n",
       "      <td>6</td>\n",
       "      <td>3</td>\n",
       "      <td>2019</td>\n",
       "      <td>19</td>\n",
       "      <td>15</td>\n",
       "      <td>4</td>\n",
       "      <td>0</td>\n",
       "      <td>...</td>\n",
       "      <td>False</td>\n",
       "      <td>False</td>\n",
       "      <td>True</td>\n",
       "      <td>False</td>\n",
       "      <td>False</td>\n",
       "      <td>True</td>\n",
       "      <td>False</td>\n",
       "      <td>False</td>\n",
       "      <td>False</td>\n",
       "      <td>False</td>\n",
       "    </tr>\n",
       "    <tr>\n",
       "      <th>2670</th>\n",
       "      <td>1.0</td>\n",
       "      <td>8</td>\n",
       "      <td>NaN</td>\n",
       "      <td>15</td>\n",
       "      <td>6</td>\n",
       "      <td>2019</td>\n",
       "      <td>19</td>\n",
       "      <td>15</td>\n",
       "      <td>4</td>\n",
       "      <td>55</td>\n",
       "      <td>...</td>\n",
       "      <td>False</td>\n",
       "      <td>False</td>\n",
       "      <td>True</td>\n",
       "      <td>False</td>\n",
       "      <td>False</td>\n",
       "      <td>True</td>\n",
       "      <td>False</td>\n",
       "      <td>False</td>\n",
       "      <td>False</td>\n",
       "      <td>False</td>\n",
       "    </tr>\n",
       "  </tbody>\n",
       "</table>\n",
       "<p>13351 rows × 31 columns</p>\n",
       "</div>"
      ],
      "text/plain": [
       "      Total_Stops  Additional_Info    Price  Date  Month  Year  Arrival_Hour  \\\n",
       "0             0.0                8   3897.0    24      3  2019             1   \n",
       "1             2.0                8   7662.0     1      5  2019            13   \n",
       "2             2.0                8  13882.0     9      6  2019             4   \n",
       "3             1.0                8   6218.0    12      5  2019            23   \n",
       "4             1.0                8  13302.0     1      3  2019            21   \n",
       "...           ...              ...      ...   ...    ...   ...           ...   \n",
       "2666          1.0                8      NaN     6      6  2019            20   \n",
       "2667          0.0                8      NaN    27      3  2019            16   \n",
       "2668          1.0                8      NaN     6      3  2019             4   \n",
       "2669          1.0                8      NaN     6      3  2019            19   \n",
       "2670          1.0                8      NaN    15      6  2019            19   \n",
       "\n",
       "      Arrival_Minute  Dep_Hour  Dep_Minute  ...  Airline_11  Source_1  \\\n",
       "0                 10        22          20  ...       False     False   \n",
       "1                 15         5          50  ...       False     False   \n",
       "2                 25         9          25  ...       False     False   \n",
       "3                 30        18           5  ...       False     False   \n",
       "4                 35        16          50  ...       False     False   \n",
       "...              ...       ...         ...  ...         ...       ...   \n",
       "2666              25        20          30  ...       False     False   \n",
       "2667              55        14          20  ...       False     False   \n",
       "2668              25        21          50  ...       False     False   \n",
       "2669              15         4           0  ...       False     False   \n",
       "2670              15         4          55  ...       False     False   \n",
       "\n",
       "      Source_2  Source_3  Source_4  Destination_1  Destination_2  \\\n",
       "0        False     False     False          False          False   \n",
       "1        False      True     False          False          False   \n",
       "2         True     False     False           True          False   \n",
       "3        False      True     False          False          False   \n",
       "4        False     False     False          False          False   \n",
       "...        ...       ...       ...            ...            ...   \n",
       "2666     False      True     False          False          False   \n",
       "2667     False      True     False          False          False   \n",
       "2668      True     False     False           True          False   \n",
       "2669      True     False     False           True          False   \n",
       "2670      True     False     False           True          False   \n",
       "\n",
       "      Destination_3  Destination_4  Destination_5  \n",
       "0             False          False           True  \n",
       "1             False          False          False  \n",
       "2             False          False          False  \n",
       "3             False          False          False  \n",
       "4             False          False           True  \n",
       "...             ...            ...            ...  \n",
       "2666          False          False          False  \n",
       "2667          False          False          False  \n",
       "2668          False          False          False  \n",
       "2669          False          False          False  \n",
       "2670          False          False          False  \n",
       "\n",
       "[13351 rows x 31 columns]"
      ]
     },
     "execution_count": 121,
     "metadata": {},
     "output_type": "execute_result"
    }
   ],
   "source": [
    "pd.get_dummies(final_df,columns=[\"Airline\", \"Source\", \"Destination\"] ,drop_first = True)\n"
   ]
  }
 ],
 "metadata": {
  "kernelspec": {
   "display_name": "base",
   "language": "python",
   "name": "python3"
  },
  "language_info": {
   "codemirror_mode": {
    "name": "ipython",
    "version": 3
   },
   "file_extension": ".py",
   "mimetype": "text/x-python",
   "name": "python",
   "nbconvert_exporter": "python",
   "pygments_lexer": "ipython3",
   "version": "3.12.3"
  }
 },
 "nbformat": 4,
 "nbformat_minor": 2
}
